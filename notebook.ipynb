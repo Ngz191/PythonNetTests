{
 "cells": [
  {
   "cell_type": "markdown",
   "id": "7e66b671-ffbb-482c-9194-e5e83f82483b",
   "metadata": {},
   "source": [
    "# Python in C# tests"
   ]
  },
  {
   "cell_type": "code",
   "execution_count": 1,
   "id": "74552715-7809-40e8-a4f5-089fd4836d0e",
   "metadata": {},
   "outputs": [],
   "source": [
    "from IPython import display\n",
    "from IPython.core.display import Image"
   ]
  },
  {
   "cell_type": "markdown",
   "id": "2fd10ae3-724f-4feb-8cce-5b74ee4d1922",
   "metadata": {},
   "source": [
    "## Pyscript"
   ]
  },
  {
   "cell_type": "markdown",
   "id": "60746407-cbe8-4d94-b256-31d833de707b",
   "metadata": {},
   "source": [
    "Pyscript runs Python code inside the browser. Tried to import a Python module and it did not work unless a http server was running, but after running the server there was no response given. Seems to be very slow when performing tasks."
   ]
  },
  {
   "cell_type": "markdown",
   "id": "498eda60-c73e-4d85-99c7-35cdba72919d",
   "metadata": {},
   "source": [
    "## Communicating via a C++ DLL"
   ]
  },
  {
   "cell_type": "markdown",
   "id": "6686c771-f2a8-4eff-9788-10af8b8b2be2",
   "metadata": {},
   "source": [
    ".NET natively can use a C++ DLL (Dynamic link library) and run code build in C++. Taking in account that Python has a C API that can be used to run C++ code in Python and vice versa, then a bridge could be build between both languages to create a DLL to run the Python code from .NET."
   ]
  },
  {
   "cell_type": "markdown",
   "id": "fb621644-3f2e-43e1-b783-eef0b0c38d13",
   "metadata": {},
   "source": [
    "![using_dll](./images/PythonDLLTest2.png)"
   ]
  },
  {
   "cell_type": "markdown",
   "id": "7a5adf09-2c0f-4c28-b7c3-5d0072a94769",
   "metadata": {},
   "source": [
    "The Code successfully runs in a C++ application, but there're problems when processing Python user defined types. I stopped exploring this approach since I found that there's a solution for running Python code in .NET using Python.NET"
   ]
  },
  {
   "cell_type": "markdown",
   "id": "36483086-b8c6-45ca-85a7-b0446e398b5c",
   "metadata": {},
   "source": [
    "![using_dll](./images/PythonDLLTest1.png)"
   ]
  },
  {
   "cell_type": "markdown",
   "id": "b4beb238-7b66-4fc1-8eeb-6a23af890481",
   "metadata": {},
   "source": [
    "Partly a successful response without using the pvlib library. Of all the options this is the one that adds more complexity to the program due to the fact that a new language (C++) has to be used as a bridge between .NET and Python."
   ]
  },
  {
   "cell_type": "markdown",
   "id": "d4846d28-b275-41b3-9235-da83cfa972bd",
   "metadata": {},
   "source": [
    "## Python.NET"
   ]
  },
  {
   "cell_type": "markdown",
   "id": "c74f6275-7e0f-4bac-9802-70b13255de56",
   "metadata": {},
   "source": [
    "Using a .NET console application and a Python module inside the root directory, part of the Python code could be used. A Location object was created and the etr was calculated."
   ]
  },
  {
   "cell_type": "markdown",
   "id": "456b7d34-e046-4964-acbd-6fbd2f2453e7",
   "metadata": {},
   "source": [
    "![using_fastapi](./images/PythonNETTest1.png)"
   ]
  },
  {
   "cell_type": "markdown",
   "id": "1f79d8a0-9e2b-481b-9433-8e81e17d60c3",
   "metadata": {},
   "source": [
    "When processing Python user defined types (in this case a pandas Dataframe) the code does not run. An error of maximum recursion was encountered, and when the recursion limit was raised to 100000, a stack overflow error was encountered."
   ]
  },
  {
   "cell_type": "markdown",
   "id": "c356a55a-9ced-4648-974b-64fe30094a66",
   "metadata": {},
   "source": [
    "![using_fastapi](./images/PythonNETTest2.png)"
   ]
  },
  {
   "cell_type": "markdown",
   "id": "b265e0da-de54-45b9-8f4c-31337753f87f",
   "metadata": {},
   "source": [
    "Partly successful response after a lot of configuring and testing."
   ]
  },
  {
   "cell_type": "markdown",
   "id": "c6e1ac07-64e1-45c4-a079-efef89a8153f",
   "metadata": {},
   "source": [
    "## Using FastAPI"
   ]
  },
  {
   "cell_type": "markdown",
   "id": "10670bfa-4fe4-4afe-8750-b32296eb70a8",
   "metadata": {},
   "source": [
    "Using an endpoint named 'test/' I could get a successful JSON response. Some preprocessing had to be done since pvlib returns data in pandas series, so had to convert it to a JSON response."
   ]
  },
  {
   "cell_type": "markdown",
   "id": "1b025900-dd31-4cea-b5f6-fbc5c2e44a23",
   "metadata": {},
   "source": [
    "![using_fastapi](./images/fastapiTest.png)"
   ]
  },
  {
   "cell_type": "markdown",
   "id": "8dae5806-4669-4ad5-8bbc-af61a1b08c77",
   "metadata": {},
   "source": [
    "Of the four options this is the only one that returned a successful response using an external module that makes use of the pvlib library."
   ]
  },
  {
   "cell_type": "code",
   "execution_count": null,
   "id": "fe884281-435a-47da-a300-c1c2738276c2",
   "metadata": {},
   "outputs": [],
   "source": []
  }
 ],
 "metadata": {
  "kernelspec": {
   "display_name": "Python 3 (ipykernel)",
   "language": "python",
   "name": "python3"
  },
  "language_info": {
   "codemirror_mode": {
    "name": "ipython",
    "version": 3
   },
   "file_extension": ".py",
   "mimetype": "text/x-python",
   "name": "python",
   "nbconvert_exporter": "python",
   "pygments_lexer": "ipython3",
   "version": "3.10.1"
  }
 },
 "nbformat": 4,
 "nbformat_minor": 5
}
